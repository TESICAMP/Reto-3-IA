{
 "cells": [
  {
   "cell_type": "markdown",
   "id": "709bf9ff",
   "metadata": {},
   "source": [
    "### Desafío 3 - IA TESICamp"
   ]
  },
  {
   "cell_type": "markdown",
   "id": "8e25092e",
   "metadata": {},
   "source": [
    "### Notebook guía\n",
    "Este Jupyter Notebook te dará instrucciones para crear una solución al Desafío 3 de IA en el TESIChallenge.\n"
   ]
  },
  {
   "cell_type": "markdown",
   "id": "41c37f6a",
   "metadata": {},
   "source": [
    "### Exploración de datos\n",
    "El primer paso paso desarollar una solución es elegir las herramientas, hay muchas bibliotecas de Python que se pueden utilizar para el procesamiento y la visualización de datos. En este caso usaremos Pandas, Seaborn y Matplotlib."
   ]
  },
  {
   "cell_type": "code",
   "execution_count": 1,
   "id": "68ee1161",
   "metadata": {},
   "outputs": [],
   "source": [
    "import pandas as pd\n",
    "import matplotlib.pyplot as plt\n",
    "import seaborn as sns"
   ]
  },
  {
   "cell_type": "markdown",
   "id": "40a44b38",
   "metadata": {},
   "source": [
    "Una vez que cargamos nuestras bibliotecas podemo pasar a cargar los datos para esto utilizaremos la función \"read_csv\" de pandas."
   ]
  },
  {
   "cell_type": "code",
   "execution_count": 2,
   "id": "92221533",
   "metadata": {},
   "outputs": [],
   "source": [
    "datos = pd.read_csv('datos/coordenadas.csv')  "
   ]
  },
  {
   "cell_type": "markdown",
   "id": "79ba98bd",
   "metadata": {},
   "source": [
    "Podemos usar los métodos .info () y .describe () para obtener información básica sobre la cantidad actual de datos, sus tipos y valores."
   ]
  },
  {
   "cell_type": "code",
   "execution_count": 3,
   "id": "b098eddf",
   "metadata": {},
   "outputs": [
    {
     "name": "stdout",
     "output_type": "stream",
     "text": [
      "<class 'pandas.core.frame.DataFrame'>\n",
      "RangeIndex: 59 entries, 0 to 58\n",
      "Data columns (total 3 columns):\n",
      " #   Column    Non-Null Count  Dtype  \n",
      "---  ------    --------------  -----  \n",
      " 0   Colonia   59 non-null     object \n",
      " 1   Latitud   59 non-null     float64\n",
      " 2   Longitud  59 non-null     float64\n",
      "dtypes: float64(2), object(1)\n",
      "memory usage: 1.5+ KB\n"
     ]
    }
   ],
   "source": [
    "datos.info()"
   ]
  },
  {
   "cell_type": "code",
   "execution_count": 4,
   "id": "c2ea8554",
   "metadata": {},
   "outputs": [
    {
     "data": {
      "text/html": [
       "<div>\n",
       "<style scoped>\n",
       "    .dataframe tbody tr th:only-of-type {\n",
       "        vertical-align: middle;\n",
       "    }\n",
       "\n",
       "    .dataframe tbody tr th {\n",
       "        vertical-align: top;\n",
       "    }\n",
       "\n",
       "    .dataframe thead th {\n",
       "        text-align: right;\n",
       "    }\n",
       "</style>\n",
       "<table border=\"1\" class=\"dataframe\">\n",
       "  <thead>\n",
       "    <tr style=\"text-align: right;\">\n",
       "      <th></th>\n",
       "      <th>Latitud</th>\n",
       "      <th>Longitud</th>\n",
       "    </tr>\n",
       "  </thead>\n",
       "  <tbody>\n",
       "    <tr>\n",
       "      <th>count</th>\n",
       "      <td>59.000000</td>\n",
       "      <td>59.000000</td>\n",
       "    </tr>\n",
       "    <tr>\n",
       "      <th>mean</th>\n",
       "      <td>19.321513</td>\n",
       "      <td>-98.903979</td>\n",
       "    </tr>\n",
       "    <tr>\n",
       "      <th>std</th>\n",
       "      <td>0.015905</td>\n",
       "      <td>0.031894</td>\n",
       "    </tr>\n",
       "    <tr>\n",
       "      <th>min</th>\n",
       "      <td>19.292192</td>\n",
       "      <td>-98.947491</td>\n",
       "    </tr>\n",
       "    <tr>\n",
       "      <th>25%</th>\n",
       "      <td>19.311583</td>\n",
       "      <td>-98.930774</td>\n",
       "    </tr>\n",
       "    <tr>\n",
       "      <th>50%</th>\n",
       "      <td>19.320700</td>\n",
       "      <td>-98.910398</td>\n",
       "    </tr>\n",
       "    <tr>\n",
       "      <th>75%</th>\n",
       "      <td>19.327543</td>\n",
       "      <td>-98.885666</td>\n",
       "    </tr>\n",
       "    <tr>\n",
       "      <th>max</th>\n",
       "      <td>19.383466</td>\n",
       "      <td>-98.818836</td>\n",
       "    </tr>\n",
       "  </tbody>\n",
       "</table>\n",
       "</div>"
      ],
      "text/plain": [
       "         Latitud   Longitud\n",
       "count  59.000000  59.000000\n",
       "mean   19.321513 -98.903979\n",
       "std     0.015905   0.031894\n",
       "min    19.292192 -98.947491\n",
       "25%    19.311583 -98.930774\n",
       "50%    19.320700 -98.910398\n",
       "75%    19.327543 -98.885666\n",
       "max    19.383466 -98.818836"
      ]
     },
     "execution_count": 4,
     "metadata": {},
     "output_type": "execute_result"
    }
   ],
   "source": [
    "datos.describe()"
   ]
  },
  {
   "cell_type": "markdown",
   "id": "1ec68a04",
   "metadata": {},
   "source": [
    "## Procesamiento de datos\n",
    "Ahora tienes los datos para poder iniciar la búsqueda de la ruta más corta, para esto enlista las colonias colocando en la primera posición la colonia que visitaras primero y después la segunda y así sucesivamente.  \n",
    "Donde la distancia d está dada por:\n",
    "\n",
    "![](imagenes/formula.png)\n",
    "\n",
    "r = radio de la tierra 6,371.0\n",
    "\n",
    "$\\lambda_1$ = longitud 1\n",
    "\n",
    "$\\lambda_2$ = longitud 2\n",
    "\n",
    "$\\phi_1$ = latitud 1\n",
    "\n",
    "$\\phi_2$ = latitud 2\n",
    "\n",
    "Otra opción es usar la función *distance* de la biblioteca *geopy* que nos ayuda a calcular la distancia entre dos colonias.\n"
   ]
  },
  {
   "cell_type": "code",
   "execution_count": 5,
   "id": "f95a9cf1",
   "metadata": {},
   "outputs": [
    {
     "name": "stdout",
     "output_type": "stream",
     "text": [
      "Requirement already satisfied: geopy in c:\\users\\cesar\\appdata\\local\\programs\\python\\python39\\lib\\site-packages (2.2.0)"
     ]
    },
    {
     "name": "stderr",
     "output_type": "stream",
     "text": [
      "WARNING: You are using pip version 21.2.3; however, version 21.3.1 is available.\n",
      "You should consider upgrading via the 'C:\\Users\\cesar\\AppData\\Local\\Programs\\Python\\Python39\\python.exe -m pip install --upgrade pip' command.\n"
     ]
    },
    {
     "name": "stdout",
     "output_type": "stream",
     "text": [
      "\n",
      "Requirement already satisfied: geographiclib<2,>=1.49 in c:\\users\\cesar\\appdata\\local\\programs\\python\\python39\\lib\\site-packages (from geopy) (1.52)\n"
     ]
    }
   ],
   "source": [
    "#Instalamos la biblioteca si es necesario\n",
    "!pip install geopy"
   ]
  },
  {
   "cell_type": "code",
   "execution_count": 6,
   "id": "10ee1121",
   "metadata": {},
   "outputs": [
    {
     "name": "stdout",
     "output_type": "stream",
     "text": [
      "La distancia entre la colonia 1 y la colonia 2 es: 1.8117472016362757\n"
     ]
    }
   ],
   "source": [
    "from geopy import distance\n",
    "\n",
    "colonia1 = (datos['Latitud'][0], datos['Longitud'][0])\n",
    "colonia2 = (datos['Latitud'][1], datos['Longitud'][1])\n",
    "distancia = distance.distance(colonia1,colonia2).km\n",
    "print(\"La distancia entre la colonia 1 y la colonia 2 es: \" + str(distancia))\n"
   ]
  },
  {
   "cell_type": "code",
   "execution_count": 10,
   "id": "f43d286b",
   "metadata": {},
   "outputs": [],
   "source": [
    "## Algoritmo para buscar la ruta mas corta sumando las distancias.\n",
    "colonias = datos[\"Colonia\"][1:] # El Primer y ultimo lugar simpre será el TESI\n",
    "colonias = colonias.sort_values()\n",
    "resultados=colonias\n"
   ]
  },
  {
   "cell_type": "markdown",
   "id": "39bd36f9",
   "metadata": {},
   "source": [
    "Realiza un dataframe con tu respuesta, recuerda respetar el nombré y formato de las columnas."
   ]
  },
  {
   "cell_type": "code",
   "execution_count": 11,
   "id": "31e86ac6",
   "metadata": {},
   "outputs": [
    {
     "data": {
      "text/html": [
       "<div>\n",
       "<style scoped>\n",
       "    .dataframe tbody tr th:only-of-type {\n",
       "        vertical-align: middle;\n",
       "    }\n",
       "\n",
       "    .dataframe tbody tr th {\n",
       "        vertical-align: top;\n",
       "    }\n",
       "\n",
       "    .dataframe thead th {\n",
       "        text-align: right;\n",
       "    }\n",
       "</style>\n",
       "<table border=\"1\" class=\"dataframe\">\n",
       "  <thead>\n",
       "    <tr style=\"text-align: right;\">\n",
       "      <th></th>\n",
       "      <th>Colonia</th>\n",
       "      <th>Autobus</th>\n",
       "    </tr>\n",
       "  </thead>\n",
       "  <tbody>\n",
       "    <tr>\n",
       "      <th>0</th>\n",
       "      <td>TESI</td>\n",
       "      <td>1</td>\n",
       "    </tr>\n",
       "    <tr>\n",
       "      <th>1</th>\n",
       "      <td>20 de noviembre</td>\n",
       "      <td>1</td>\n",
       "    </tr>\n",
       "    <tr>\n",
       "      <th>2</th>\n",
       "      <td>Alfredo del Mazo</td>\n",
       "      <td>1</td>\n",
       "    </tr>\n",
       "    <tr>\n",
       "      <th>3</th>\n",
       "      <td>Ampliación Emiliano Zapata</td>\n",
       "      <td>1</td>\n",
       "    </tr>\n",
       "    <tr>\n",
       "      <th>4</th>\n",
       "      <td>Ampliación Loma Bonita</td>\n",
       "      <td>1</td>\n",
       "    </tr>\n",
       "    <tr>\n",
       "      <th>...</th>\n",
       "      <td>...</td>\n",
       "      <td>...</td>\n",
       "    </tr>\n",
       "    <tr>\n",
       "      <th>57</th>\n",
       "      <td>Tlayehuale</td>\n",
       "      <td>2</td>\n",
       "    </tr>\n",
       "    <tr>\n",
       "      <th>58</th>\n",
       "      <td>Valle Verde</td>\n",
       "      <td>2</td>\n",
       "    </tr>\n",
       "    <tr>\n",
       "      <th>59</th>\n",
       "      <td>Vergel de Guadalupe</td>\n",
       "      <td>2</td>\n",
       "    </tr>\n",
       "    <tr>\n",
       "      <th>60</th>\n",
       "      <td>Zoquiapan</td>\n",
       "      <td>2</td>\n",
       "    </tr>\n",
       "    <tr>\n",
       "      <th>61</th>\n",
       "      <td>TESI</td>\n",
       "      <td>2</td>\n",
       "    </tr>\n",
       "  </tbody>\n",
       "</table>\n",
       "<p>62 rows × 2 columns</p>\n",
       "</div>"
      ],
      "text/plain": [
       "                       Colonia Autobus\n",
       "0                         TESI       1\n",
       "1              20 de noviembre       1\n",
       "2             Alfredo del Mazo       1\n",
       "3   Ampliación Emiliano Zapata       1\n",
       "4       Ampliación Loma Bonita       1\n",
       "..                         ...     ...\n",
       "57                  Tlayehuale       2\n",
       "58                 Valle Verde       2\n",
       "59         Vergel de Guadalupe       2\n",
       "60                   Zoquiapan       2\n",
       "61                        TESI       2\n",
       "\n",
       "[62 rows x 2 columns]"
      ]
     },
     "execution_count": 11,
     "metadata": {},
     "output_type": "execute_result"
    }
   ],
   "source": [
    "resultados = pd.DataFrame(columns=[\"Colonia\", \"Autobus\"])\n",
    "\n",
    "#lista del primer autobus\n",
    "resultados = resultados.append({\"Colonia\": 'TESI', \"Autobus\":1}, ignore_index=True)\n",
    "for iCol in colonias[:30]:\n",
    "    resultados = resultados.append({\"Colonia\": iCol, \"Autobus\":1}, ignore_index=True)\n",
    "resultados = resultados.append({\"Colonia\": 'TESI', \"Autobus\":1}, ignore_index=True)\n",
    "\n",
    "#lista del segundo autobus\n",
    "resultados = resultados.append({\"Colonia\": 'TESI', \"Autobus\":2}, ignore_index=True)\n",
    "for iCol in colonias[30:]:\n",
    "    resultados = resultados.append({\"Colonia\": iCol, \"Autobus\":2}, ignore_index=True)\n",
    "resultados = resultados.append({\"Colonia\": 'TESI', \"Autobus\":2}, ignore_index=True)\n",
    "resultados"
   ]
  },
  {
   "cell_type": "markdown",
   "id": "bf003062",
   "metadata": {},
   "source": [
    "## Resultado\n",
    "Una vez que tengas el orden de las colonias guárdalo en un archivo .csv para que pueda entregar tu resultado."
   ]
  },
  {
   "cell_type": "code",
   "execution_count": 12,
   "id": "4c05e6f7",
   "metadata": {},
   "outputs": [],
   "source": [
    "resultados.to_csv(\"datos/resultados.csv\", index=False)"
   ]
  },
  {
   "cell_type": "markdown",
   "id": "d51a42e1",
   "metadata": {},
   "source": [
    "Esta archivo \"resultados.csv\" es el que tienes que enviar.\n",
    "\n",
    "# ¡Felicitaciones has terminado el reto!\n"
   ]
  }
 ],
 "metadata": {
  "kernelspec": {
   "display_name": "Python 3 (ipykernel)",
   "language": "python",
   "name": "python3"
  },
  "language_info": {
   "codemirror_mode": {
    "name": "ipython",
    "version": 3
   },
   "file_extension": ".py",
   "mimetype": "text/x-python",
   "name": "python",
   "nbconvert_exporter": "python",
   "pygments_lexer": "ipython3",
   "version": "3.9.7"
  }
 },
 "nbformat": 4,
 "nbformat_minor": 5
}
